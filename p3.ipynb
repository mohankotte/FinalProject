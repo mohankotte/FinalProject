{
  "nbformat": 4,
  "nbformat_minor": 0,
  "metadata": {
    "colab": {
      "provenance": []
    },
    "kernelspec": {
      "name": "python3",
      "display_name": "Python 3"
    },
    "language_info": {
      "name": "python"
    }
  },
  "cells": [
    {
      "cell_type": "code",
      "execution_count": 1,
      "metadata": {
        "colab": {
          "base_uri": "https://localhost:8080/"
        },
        "id": "wLRDMjS3ORQa",
        "outputId": "258ee10a-9b13-4387-f023-d5bd5716e27a"
      },
      "outputs": [
        {
          "output_type": "stream",
          "name": "stdout",
          "text": [
            "Attack probability in PoS: 0.61\n",
            "Attack probability in PoW with 5 miners: 0.04\n"
          ]
        }
      ],
      "source": [
        "import random\n",
        "import hashlib\n",
        "\n",
        "def calculate_attack_probability(stake, total_stake, hashrate=None, total_hashrate=None):\n",
        "    \"\"\"Calculates the attack probability in a PoS or PoW system\"\"\"\n",
        "    if hashrate is not None:\n",
        "        return hashrate / total_hashrate\n",
        "    return stake / total_stake\n",
        "\n",
        "def distribute_hashrate(hashrate, num_miners):\n",
        "    \"\"\"Distributes the hashrate among multiple miners\"\"\"\n",
        "    return hashrate / num_miners\n",
        "\n",
        "if __name__ == '__main__':\n",
        "    total_stake = 100\n",
        "    stake = random.randint(1, total_stake)\n",
        "    pos_attack_prob = calculate_attack_probability(stake, total_stake)\n",
        "    print(f\"Attack probability in PoS: {pos_attack_prob:.2f}\")\n",
        "\n",
        "    total_hashrate = 100\n",
        "    hashrate = random.randint(1, total_hashrate)\n",
        "    num_miners = 5\n",
        "    distributed_hashrate = distribute_hashrate(hashrate, num_miners)\n",
        "    pow_attack_prob = calculate_attack_probability(None, None, distributed_hashrate, total_hashrate * num_miners)\n",
        "    print(f\"Attack probability in PoW with {num_miners} miners: {pow_attack_prob:.2f}\")\n"
      ]
    }
  ]
}