{
  "nbformat": 4,
  "nbformat_minor": 0,
  "metadata": {
    "colab": {
      "provenance": []
    },
    "kernelspec": {
      "name": "python3",
      "display_name": "Python 3"
    },
    "language_info": {
      "name": "python"
    }
  },
  "cells": [
    {
      "cell_type": "code",
      "execution_count": 1,
      "metadata": {
        "colab": {
          "base_uri": "https://localhost:8080/"
        },
        "id": "mxUTXnaBOtOR",
        "outputId": "ba31169e-9d81-43fb-d880-1c96e472cb6e"
      },
      "outputs": [
        {
          "output_type": "stream",
          "name": "stdout",
          "text": [
            "Attack probability of Proof of Learning: 0.1111111111111111\n",
            "Attack probability of Proof of Vote: 8.636168555094445e-78\n"
          ]
        }
      ],
      "source": [
        "import hashlib\n",
        "import random\n",
        "\n",
        "class ProofOfLearning:\n",
        "    def __init__(self):\n",
        "        self.output = None\n",
        "        self.previous_output = None\n",
        "\n",
        "    def calculate_hash(self, data):\n",
        "        # Calculate the SHA-256 hash of the data\n",
        "        return hashlib.sha256(data.encode()).hexdigest()\n",
        "\n",
        "    def execute_task(self, data):\n",
        "        # Calculate the hash of the data\n",
        "        self.output = self.calculate_hash(data)\n",
        "\n",
        "        # If the previous output exists, use it to update the current output\n",
        "        if self.previous_output is not None:\n",
        "            self.output = self.calculate_hash(self.previous_output + self.output)\n",
        "\n",
        "        # Store the current output as the previous output for the next execution\n",
        "        self.previous_output = self.output\n",
        "\n",
        "    def get_output(self):\n",
        "        return self.output\n",
        "\n",
        "class ProofOfVote:\n",
        "    def __init__(self):\n",
        "        self.output = None\n",
        "\n",
        "    def execute_task(self, data):\n",
        "        # Sum the votes to get the final output\n",
        "        self.output = sum(data)\n",
        "\n",
        "    def get_output(self):\n",
        "        return self.output\n",
        "\n",
        "# Create an instance of the ProofOfLearning class\n",
        "pof = ProofOfLearning()\n",
        "\n",
        "# Execute the task for several inputs\n",
        "pof.execute_task(\"input_1\")\n",
        "pof.execute_task(\"input_2\")\n",
        "pof.execute_task(\"input_3\")\n",
        "\n",
        "# Get the final output\n",
        "final_output_pof = pof.get_output()\n",
        "\n",
        "# Create an instance of the ProofOfVote class\n",
        "pov = ProofOfVote()\n",
        "\n",
        "# Execute the task for several inputs\n",
        "votes = [random.randint(0, 10) for i in range(3)]\n",
        "pov.execute_task(votes)\n",
        "\n",
        "# Get the final output\n",
        "final_output_pov = pov.get_output()\n",
        "\n",
        "# Calculate the attack probabilities\n",
        "attack_probability_pof = 1 / 2**256 # Assume a brute-force attack\n",
        "attack_probability_pov = 1 / max(votes) # Assume an attack that falsifies the votes\n",
        "\n",
        "# Print the results\n",
        "print(\"Attack probability of Proof of Learning:\", attack_probability_pov)\n",
        "print(\"Attack probability of Proof of Vote:\", attack_probability_pof)"
      ]
    }
  ]
}